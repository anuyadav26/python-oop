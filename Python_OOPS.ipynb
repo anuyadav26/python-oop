{
  "nbformat": 4,
  "nbformat_minor": 0,
  "metadata": {
    "colab": {
      "provenance": []
    },
    "kernelspec": {
      "name": "python3",
      "display_name": "Python 3"
    },
    "language_info": {
      "name": "python"
    }
  },
  "cells": [
    {
      "cell_type": "markdown",
      "source": [
        "***Q1) What is Object-Oriented programming (OOP) ?***\n",
        "  - In Python, \"OOPS\" or Object-Oriented Programming (OOP) is a programming paradigm that organizes code around objects, which contain data (attributes) and methods (functions) that operate on that data, allowing for modular, reusable, and maintainable code."
      ],
      "metadata": {
        "id": "kHskPllr6Uos"
      }
    },
    {
      "cell_type": "markdown",
      "source": [
        "***Q2) What is a class in oops ?***\n",
        "  - In Python's object-oriented programming (OOP), a class is a blueprint or template for creating objects, defining their attributes (data) and methods (functions) that those objects will have."
      ],
      "metadata": {
        "id": "LoKaHQ2s_nkW"
      }
    },
    {
      "cell_type": "markdown",
      "source": [
        "***Q3) What is an object in OOP ?***\n",
        "  - In object-oriented programming (OOP) in Python, an object is a specific instance of a class, representing a unique entity with its own data (attributes) and behavior (methods)."
      ],
      "metadata": {
        "id": "4mT0jNNq_3ME"
      }
    },
    {
      "cell_type": "markdown",
      "source": [
        "***Q4) What is the difference between abstraction and encapsulation ?***\n",
        "  - Abstraction simplifies complex systems by hiding unnecessary details and exposing only essential functionalities, while encapsulation bundles data and methods into a single unit (like a class), restricting direct access to protect data integrity and promote modularity"
      ],
      "metadata": {
        "id": "nzr66wWgAHF1"
      }
    },
    {
      "cell_type": "markdown",
      "source": [
        "***Q5) What are dunder method in Python ?***\n",
        "  - In Python, \"dunder\" methods (short for \"double underscore\" methods) are special methods, also known as magic methods, that have double underscores at the beginning and end of their names (e.g., __init__, __str__) and are used to define specific behaviors for built-in operations and functionalities within classes."
      ],
      "metadata": {
        "id": "BRCda4AqAkF-"
      }
    },
    {
      "cell_type": "markdown",
      "source": [
        "***Q6) Explain the concept of inheritance in OOP.***\n",
        "  - In Object-Oriented Programming (OOP), inheritance is a mechanism where a new class (the subclass or derived class) inherits properties and behaviors from an existing class (the superclass or parent class), promoting code reuse and establishing a hierarchical relationship between classes."
      ],
      "metadata": {
        "id": "V5u38-5gA1rC"
      }
    },
    {
      "cell_type": "markdown",
      "source": [
        "***Q7) What is polymorphism in OOP ?***\n",
        "  - In object-oriented programming (OOP), polymorphism means \"many forms\" and allows objects of different classes to be treated as objects of a common superclass, enabling code reusability and flexibility through shared interfaces and different implementations."
      ],
      "metadata": {
        "id": "bOy6oiJ1BFjv"
      }
    },
    {
      "cell_type": "markdown",
      "source": [
        "***Q8) How is encapsulation achieved in Python ?***\n",
        "  - In Python, encapsulation, the bundling of data and methods that operate on that data into a single unit (a class), is achieved primarily through conventions and practices, rather than strict access modifiers like in other languages, using naming conventions to suggest private or protected access."
      ],
      "metadata": {
        "id": "RMipGCLGBUOn"
      }
    },
    {
      "cell_type": "markdown",
      "source": [
        "***Q9) What is a constructor in Python ?***\n",
        "  - In Python, a constructor is a special method, __init__, used to initialize the attributes of a newly created object when a class is instantiated. It's automatically called when you create an object of a class and allows you to set initial values for the object's attributes."
      ],
      "metadata": {
        "id": "3u4cLgoUBmUf"
      }
    },
    {
      "cell_type": "markdown",
      "source": [
        "***Q10) What are class and static method in Python ?***\n",
        "   - In Python, class methods are bound to the class itself and can access or modify class-level data, while static methods are functions within a class that don't have access to either the class or instance, serving as utility functions"
      ],
      "metadata": {
        "id": "yooo0cTTBzSw"
      }
    },
    {
      "cell_type": "markdown",
      "source": [
        "***Q11) What is method overloading in Python ?***\n",
        "   - In Python, while the term \"method overloading\" is often used, the language doesn't directly support it in the same way as some other languages like Java. Instead, Python achieves similar functionality through **flexible argument handling using default arguments, variable-length arguments (*args, kwargs), and conditional logic within a function."
      ],
      "metadata": {
        "id": "AfjEXgqTCFaf"
      }
    },
    {
      "cell_type": "markdown",
      "source": [
        "***Q12) What is method overriding in Python ?***\n",
        "   - Method overriding in Python occurs when a child class defines a method that has the same name and parameters as a method in its parent class. The child class method overrides or replaces the parent class method when called on an instance of the child class."
      ],
      "metadata": {
        "id": "Ch-XzRSiCcKi"
      }
    },
    {
      "cell_type": "markdown",
      "source": [
        "***Q13) What is a property decorator in Python ?***\n",
        "   - The Python property decorator makes attributes in a class act like read-only properties"
      ],
      "metadata": {
        "id": "_yzwGnsHCwjP"
      }
    },
    {
      "cell_type": "markdown",
      "source": [
        "***Q14) Why is polymorphism important in OOP ?***\n",
        "   - Polymorphism is crucial in Object-Oriented Programming (OOP) because it enables code reusability, flexibility, and extensibility, allowing objects of different classes to be treated uniformly through a common interface, leading to more maintainable and adaptable software."
      ],
      "metadata": {
        "id": "AofEIugMDQXy"
      }
    },
    {
      "cell_type": "markdown",
      "source": [
        "***Q15) What is an abstract class in Python ?***\n",
        "   - In Python, an abstract class is a blueprint for other classes that cannot be instantiated directly and contains one or more abstract methods (methods without implementation) that derived classes must implement."
      ],
      "metadata": {
        "id": "JX2pjb4hDfiZ"
      }
    },
    {
      "cell_type": "markdown",
      "source": [
        "***Q16) What are the advantages of OOP ?***\n",
        "   - Object-Oriented Programming (OOP) offers advantages like improved code organization, reusability through inheritance, flexibility with polymorphism, and easier maintenance and debugging due to modularity and encapsulation."
      ],
      "metadata": {
        "id": "Xm7Fk9UzDvs7"
      }
    },
    {
      "cell_type": "markdown",
      "source": [
        "***Q17) What is the difference between a class variable and an instance variable ?***\n",
        "   - In object-oriented programming, a class variable (also known as a static variable) is shared by all instances (objects) of a class, while an instance variable is unique to each instance"
      ],
      "metadata": {
        "id": "fLjDZKeoD9Ut"
      }
    },
    {
      "cell_type": "markdown",
      "source": [
        "***Q18) What is multiple inheritance in Python ?***\n",
        "   - In Python, multiple inheritance allows a class to inherit attributes and methods from more than one parent class, enabling a class to combine behaviors or attributes from multiple sources."
      ],
      "metadata": {
        "id": "BEmJaE_aETjj"
      }
    },
    {
      "cell_type": "markdown",
      "source": [
        "***Q19) Expalin the purpose of \"__str__\"and \"__repr__\" methods in Python ?***\n",
        "   - In Python, __str__ provides a user-friendly, informal string representation of an object, while __repr__ offers a more developer-focused, unambiguous representation, often useful for debugging and object inspection."
      ],
      "metadata": {
        "id": "ZkWBF3tjEkAR"
      }
    },
    {
      "cell_type": "markdown",
      "source": [
        "***Q20) What is the significane of the super() function in Python ?***\n",
        "   - In Python, the super() function is crucial for object-oriented programming, specifically when dealing with inheritance. It allows a subclass to access and call methods and attributes of its parent (superclass) without explicitly naming the parent class, promoting code reusability and maintainability"
      ],
      "metadata": {
        "id": "_atvm5zdE7Fc"
      }
    },
    {
      "cell_type": "markdown",
      "source": [
        "***Q21) What is the significance of the __del__ method in Python ?***\n",
        "   - In Python, the __del__() method, also known as a destructor or finalizer, is called when an object is about to be garbage collected, allowing for cleanup of resources before the object is destroyed."
      ],
      "metadata": {
        "id": "QHVN3JFcFPbE"
      }
    },
    {
      "cell_type": "markdown",
      "source": [
        "***Q22) What is the difference between @staticmethod and @classmethod in Python ?***\n",
        "   - In Python, @classmethod binds the method to the class itself, allowing access to class attributes via the cls argument, while @staticmethod defines a method that's part of the class but doesn't have access to either class or instance attributes."
      ],
      "metadata": {
        "id": "rgztwmi-Fqrt"
      }
    },
    {
      "cell_type": "markdown",
      "source": [
        "***Q23) How does polymorphism work in Python with inheritance ?***\n",
        "   - In Python, polymorphism with inheritance works through method overriding, where a child class redefines a method inherited from its parent class, allowing the same method name to have different behaviors based on the object type."
      ],
      "metadata": {
        "id": "uRMRH3zTGJ-J"
      }
    },
    {
      "cell_type": "markdown",
      "source": [
        "***Q24) What is method in Python OOP ?***\n",
        "   - In Python's Object-Oriented Programming (OOP), a method is a function that is defined within a class and is associated with an object (instance) of that class, enabling objects to perform actions or operations on their data.\n"
      ],
      "metadata": {
        "id": "GMNwKYvZGgd-"
      }
    },
    {
      "cell_type": "markdown",
      "source": [
        "***Q25) What is the purpose of the __cail__ method in Python ?***\n",
        "   - The __call__ method in Python allows you to make an instance of a class callable, meaning you can call it like a function (e.g., instance()), defining the behavior that occurs when that happens"
      ],
      "metadata": {
        "id": "eJ6KmJH8GvF0"
      }
    },
    {
      "cell_type": "markdown",
      "source": [
        "# ***PRACTICAL QUESTION***"
      ],
      "metadata": {
        "id": "hI8PgA-4HAR4"
      }
    },
    {
      "cell_type": "markdown",
      "source": [
        "***Q1) Create a parent class Animal with a method speak() that prints a generic message . Create a child class Dog that overrides the speak () method to print \"Bark\"!.***"
      ],
      "metadata": {
        "id": "9W_tYXWRHMsZ"
      }
    },
    {
      "cell_type": "code",
      "source": [
        "class animal:\n",
        "  def speak(self):\n",
        "    print(\"generic message sound\")\n",
        "class dog(animal):\n",
        "  def speak(self):\n",
        "    print(\"bark!\")\n",
        "\n",
        "my_dog = dog()\n",
        "my_dog.speak()"
      ],
      "metadata": {
        "id": "qfABdujIHoFX",
        "colab": {
          "base_uri": "https://localhost:8080/"
        },
        "outputId": "86405428-1175-4427-dd6c-31e9e0a4d348"
      },
      "execution_count": null,
      "outputs": [
        {
          "output_type": "stream",
          "name": "stdout",
          "text": [
            "bark!\n"
          ]
        }
      ]
    },
    {
      "cell_type": "markdown",
      "source": [
        "***Q2) Write a program to create an abstract class shape with a method area(). Derive classes circle and rectangle from it and implememnt the area() method in both.***"
      ],
      "metadata": {
        "id": "r1WIl5KmJV8w"
      }
    },
    {
      "cell_type": "code",
      "source": [
        "# Define a base class called Shape to represent a generic shape with methods for calculating area\n",
        "class Shape:\n",
        "    # Placeholder method for calculating area (to be implemented in derived classes)\n",
        "    def calculate_area(self):\n",
        "\n",
        "# Calculate and return the area of the circle using the formula: π * r^2\n",
        "    def calculate_area(self):\n",
        "        return math.pi * self.radius**2\n"
      ],
      "metadata": {
        "id": "Mmz5zDtzJxpm"
      },
      "execution_count": null,
      "outputs": []
    },
    {
      "cell_type": "markdown",
      "source": [
        "***Q3) Impliment a multi-level inheritance scenario where a class vehical  has an attribute type. Derive a class car and further derive a class Electric car that adds a battery attributes.***"
      ],
      "metadata": {
        "id": "nUOFojTEi4hL"
      }
    },
    {
      "cell_type": "code",
      "source": [
        "class Vehicle:\n",
        "    def __init__(self, type):\n",
        "        self.type = type\n",
        "\n",
        "class Car(Vehicle):\n",
        "    def __init__(self, type, model):\n",
        "        super().__init__(type)\n",
        "        self.model = model\n",
        "\n",
        "class ElectricCar(Car):\n",
        "    def __init__(self, type, model, battery_capacity):\n",
        "        super().__init__(type, model)\n",
        "        self.battery_capacity = battery_capacity\n",
        "\n",
        "# Create instances\n",
        "my_vehicle = Vehicle(\"car\")\n",
        "my_car = Car(\"Sedan\", \"Audi\")\n",
        "my_electric_car = ElectricCar(\"Electric\", \"Tesla Model S\", \"80kWh\")\n",
        "\n",
        "# Access attributes\n",
        "print(my_vehicle.type)  # Output: car\n",
        "print(my_car.type)  # Output: Sedan\n",
        "print(my_car.model)  # Output: Audi\n",
        "print(my_electric_car.type)  # Output: Electric\n",
        "print(my_electric_car.model)  # Output: Tesla Model S\n",
        "print(my_electric_car.battery_capacity)  # Output: 80kWh"
      ],
      "metadata": {
        "colab": {
          "base_uri": "https://localhost:8080/"
        },
        "id": "EC-V21iajT48",
        "outputId": "1dfa928b-9218-48c5-ac35-e349790922ce"
      },
      "execution_count": 2,
      "outputs": [
        {
          "output_type": "stream",
          "name": "stdout",
          "text": [
            "car\n",
            "Sedan\n",
            "Audi\n",
            "Electric\n",
            "Tesla Model S\n",
            "80kWh\n"
          ]
        }
      ]
    },
    {
      "cell_type": "markdown",
      "source": [
        "***Q4)Demonstrate polymorphism by creating a base class bird with a method fly() . Create two derived classess sparrow and penguin that override the fly() method.***"
      ],
      "metadata": {
        "id": "REnDdv0rl9XM"
      }
    },
    {
      "cell_type": "code",
      "source": [
        "class Bird:\n",
        "    def fly(self):\n",
        "        print(\"I can fly!\")\n",
        "\n",
        "class Sparrow(Bird):\n",
        "    def fly(self):\n",
        "        print(\"I can fly high!\")\n",
        "\n",
        "class Penguin(Bird):\n",
        "    def fly(self):\n",
        "        print(\"I cannot fly, but I can swim!\")\n",
        "\n",
        "# Demonstrate polymorphism\n",
        "bird = Bird()\n",
        "sparrow = Sparrow()\n",
        "penguin = Penguin()\n",
        "\n",
        "bird.fly()     # Output: I can fly! (base class)\n",
        "sparrow.fly()  # Output: I can fly high! (overridden in Sparrow)\n",
        "penguin.fly()  # Output: I cannot fly, but I can swim! (overridden in Penguin)\n"
      ],
      "metadata": {
        "colab": {
          "base_uri": "https://localhost:8080/"
        },
        "id": "9QgzP0EsmXYA",
        "outputId": "96757e36-4343-4022-eaa9-a243096fe253"
      },
      "execution_count": 3,
      "outputs": [
        {
          "output_type": "stream",
          "name": "stdout",
          "text": [
            "I can fly!\n",
            "I can fly high!\n",
            "I cannot fly, but I can swim!\n"
          ]
        }
      ]
    },
    {
      "cell_type": "markdown",
      "source": [
        "***Q5) Write a program to demonstrate encapsulation by creating a class BandAccount with private attributes balence and method to deposite withdraw , and check balence.***"
      ],
      "metadata": {
        "id": "0P8-PlekmW0j"
      }
    },
    {
      "cell_type": "code",
      "source": [
        "class BankAccount:\n",
        "    def __init__(self, account_number, date_of_opening, balance, customer_name):\n",
        "        self.account_number = account_number\n",
        "        self.date_of_opening  = date_of_opening\n",
        "        self.balance = balance\n",
        "        self.customer_name = customer_name\n",
        "\n",
        "    def deposit(self, amount):\n",
        "        self.balance += 5000\n",
        "        print(f\"{5000} has been deposited in your account.\")\n",
        "\n",
        "    def withdraw(self, amount):\n",
        "        if 5500 > self.balance:\n",
        "            print(\"Insufficient balance.\")\n",
        "        else:\n",
        "            self.balance -= amount\n",
        "            print(f\"{amount} has been withdrawn from your account.\")\n",
        "\n",
        "    def check_balance(self):\n",
        "        print(f\"Current balance is {self.balance}.\")\n",
        "\n",
        "    def print_customer_details(self):\n",
        "        print(\"Name:\", self.customer_name)\n",
        "        print(\"Account Number:\", self.account_number)\n",
        "        print(\"Date of opening:\", self.date_of_opening)\n",
        "        print(f\"Balance: {self.balance}\\n\")"
      ],
      "metadata": {
        "id": "01l9wQsjmvNE"
      },
      "execution_count": 8,
      "outputs": []
    },
    {
      "cell_type": "markdown",
      "source": [
        "***Q6) Demonstrate runtime polymorphism using a method play() in a class base instrument . Derive classess Guitar amd Piano that implemment their own version of play().***"
      ],
      "metadata": {
        "id": "evP0U15fmvpS"
      }
    },
    {
      "cell_type": "code",
      "source": [
        "class Instrument:\n",
        "    def play(self):\n",
        "        print(\"Playing sound\")\n",
        "\n",
        "class Guitar(Instrument):\n",
        "    def play(self):\n",
        "        print(\" play beautiful sound\")\n",
        "\n",
        "class Piano(Instrument):\n",
        "    def play(self):\n",
        "        print(\"play soft music.\")\n",
        "\n",
        "# Demonstrate runtime polymorphism\n",
        "instruments = [Instrument(), Guitar(), Piano()]\n",
        "\n",
        "for instrument in instruments:\n",
        "    instrument.play()"
      ],
      "metadata": {
        "colab": {
          "base_uri": "https://localhost:8080/"
        },
        "id": "ii8Tf9LVnSsi",
        "outputId": "c93cba2f-e03b-4a80-d61f-83e1f1e3ffca"
      },
      "execution_count": 9,
      "outputs": [
        {
          "output_type": "stream",
          "name": "stdout",
          "text": [
            "Playing sound\n",
            " play beautiful sound\n",
            "play soft music.\n"
          ]
        }
      ]
    },
    {
      "cell_type": "markdown",
      "source": [
        "***Q7) Create a class MathOperation with a class method add_number() to add two numbers and a static method substract_numbers() to subtract two numbers.***"
      ],
      "metadata": {
        "id": "Z0DUkm6ynTIf"
      }
    },
    {
      "cell_type": "code",
      "source": [
        "class MathOperation:\n",
        "    @classmethod\n",
        "    def add_numbers(cls, x, y):\n",
        "        return x + y\n",
        "\n",
        "    @staticmethod\n",
        "    def subtract_numbers(x, y):\n",
        "        return x - y\n",
        "\n",
        "print(MathOperation.add_numbers(5, 3))\n",
        "print(MathOperation.subtract_numbers(10, 4))"
      ],
      "metadata": {
        "colab": {
          "base_uri": "https://localhost:8080/"
        },
        "id": "nA41eb87z8ym",
        "outputId": "4429c2ba-2ba7-4eba-ecaf-026eb723660e"
      },
      "execution_count": 26,
      "outputs": [
        {
          "output_type": "stream",
          "name": "stdout",
          "text": [
            "8\n",
            "6\n"
          ]
        }
      ]
    },
    {
      "cell_type": "markdown",
      "source": [
        "***Q8) Implement a class person with a class method to count the total number of persons created.***"
      ],
      "metadata": {
        "id": "sbrRkb-anwq6"
      }
    },
    {
      "cell_type": "code",
      "source": [
        "class MyClass:\n",
        "    count = 0 # initialise count to zero\n",
        "\n",
        "    def __init__(self, name):\n",
        "        self.name = name\n",
        "        MyClass.count += 1 # increment count by one for each new instance\n",
        "\n",
        "# create some instances of the class\n",
        "obj1 = MyClass(\"Anamika\")\n",
        "obj2 = MyClass(\"aashi\")\n",
        "obj3 = MyClass(\"aahna\")\n",
        "\n",
        "# print the number of instances created\n",
        "print(\"Total number of instances created:\", MyClass.count)"
      ],
      "metadata": {
        "colab": {
          "base_uri": "https://localhost:8080/"
        },
        "id": "sKPNv7EB13_N",
        "outputId": "b2f20437-b167-415c-8872-35a9bd5ca9ef"
      },
      "execution_count": 34,
      "outputs": [
        {
          "output_type": "stream",
          "name": "stdout",
          "text": [
            "Total number of instances created: 3\n"
          ]
        }
      ]
    },
    {
      "cell_type": "markdown",
      "source": [
        "***Q9) Write a class fraction with attributes numerator and denominator . Override the str method to display the fraction as \"numerator/denominator\".***"
      ],
      "metadata": {
        "id": "wT9lae2KoH7S"
      }
    },
    {
      "cell_type": "code",
      "source": [
        "class Fraction:\n",
        "    def __init__(self, numerator, denominator):\n",
        "        self.numerator = numerator\n",
        "        self.denominator = denominator\n",
        "\n",
        "    def __str__(self):\n",
        "        return f\"{self.numerator}/{self.denominator}\"\n",
        "\n",
        "# Example Usage\n",
        "fraction = Fraction(6, 9)\n",
        "print(fraction)"
      ],
      "metadata": {
        "colab": {
          "base_uri": "https://localhost:8080/"
        },
        "id": "AYrNq_eToh8r",
        "outputId": "33f52586-40eb-465b-e995-6022dd224dc7"
      },
      "execution_count": 36,
      "outputs": [
        {
          "output_type": "stream",
          "name": "stdout",
          "text": [
            "6/9\n"
          ]
        }
      ]
    },
    {
      "cell_type": "markdown",
      "source": [
        "***Q10) Demonstrate operator overloading by creating a class vector and overridding the add method to add two vector.***"
      ],
      "metadata": {
        "id": "QmD474mJoicC"
      }
    },
    {
      "cell_type": "code",
      "source": [
        "\n",
        "class Vector:\n",
        "    def __init__(self, x, y):\n",
        "        self.x = x\n",
        "        self.y = y\n",
        "\n",
        "    def __add__(self, other):\n",
        "        return Vector(self.x + other.x, self.y + other.y)\n",
        "\n",
        "    def __repr__(self):\n",
        "        return f\"Vector({self.x}, {self.y})\"\n",
        "\n",
        "# Creating instances\n",
        "v1 = Vector(1, 2)\n",
        "v2 = Vector(3, 4)\n",
        "\n",
        "# Adding vectors using operator overloading\n",
        "result = v1 + v2\n",
        "print(result)  # Output: Vector(4, 6)\n",
        "\n"
      ],
      "metadata": {
        "colab": {
          "base_uri": "https://localhost:8080/"
        },
        "id": "F-ATuRjRovby",
        "outputId": "aeafcfe4-e79a-43a5-dc6b-60dccd2922c0"
      },
      "execution_count": 37,
      "outputs": [
        {
          "output_type": "stream",
          "name": "stdout",
          "text": [
            "Vector(4, 6)\n"
          ]
        }
      ]
    },
    {
      "cell_type": "markdown",
      "source": [
        "***Q11) Create a class person with attributes name and age . Add a method greet() that prints \"hello , my name is {name} and I am {age} years old.\"***"
      ],
      "metadata": {
        "id": "Kz5-Vaeeov8G"
      }
    },
    {
      "cell_type": "code",
      "source": [
        "class Person:\n",
        "    def __init__(self, name, age):\n",
        "        self.name = name\n",
        "        self.age = age\n",
        "\n",
        "    def greet(self):\n",
        "        print(f\"Hello, my name is {self.name} and I am {self.age} years old.\")\n",
        "\n",
        "# Create an instance of the Person class\n",
        "person = Person(\"Anamika\", 30)\n",
        "\n",
        "# Call the greet() method\n",
        "person.greet()"
      ],
      "metadata": {
        "colab": {
          "base_uri": "https://localhost:8080/"
        },
        "id": "qomceesFpffz",
        "outputId": "a5d3b743-ba0e-4841-e8d8-f11df47f83c5"
      },
      "execution_count": 38,
      "outputs": [
        {
          "output_type": "stream",
          "name": "stdout",
          "text": [
            "Hello, my name is Anamika and I am 30 years old.\n"
          ]
        }
      ]
    },
    {
      "cell_type": "markdown",
      "source": [
        "***Q12) Implement a class student with attributes name and grades.Create a method average _grade() to compute the average of the grades.***"
      ],
      "metadata": {
        "id": "4qjWIJUvpf9t"
      }
    },
    {
      "cell_type": "code",
      "source": [
        "class Student:\n",
        "    def __init__(self, name, grades):\n",
        "        self.name = name\n",
        "        self.grades = grades\n",
        "\n",
        "    def average_grade(self):\n",
        "        if not self.grades:  # Check if grades list is empty\n",
        "            return 0  # Handle empty list to avoid ZeroDivisionError\n",
        "        return sum(self.grades) / len(self.grades)\n",
        "\n",
        "# Example usage\n",
        "student1 = Student(\"Anamika\", [89, 80, 78, 82])\n",
        "average = student1.average_grade()\n",
        "print(f\"{student1.name}'s average grade: {average}\")"
      ],
      "metadata": {
        "colab": {
          "base_uri": "https://localhost:8080/"
        },
        "id": "GYCy8ILpp4KT",
        "outputId": "1094146f-a865-4a6f-a467-8e4b80daf337"
      },
      "execution_count": 39,
      "outputs": [
        {
          "output_type": "stream",
          "name": "stdout",
          "text": [
            "Anamika's average grade: 82.25\n"
          ]
        }
      ]
    },
    {
      "cell_type": "markdown",
      "source": [
        "***Q13) Create a class Reactangle with method set_dimension() to set the dimensions and area() to calculate the area.***"
      ],
      "metadata": {
        "id": "xZb8VZ9Pp4pz"
      }
    },
    {
      "cell_type": "code",
      "source": [
        "class Rectangle:\n",
        "    def __init__(self):  # Initialize with default dimensions\n",
        "        self.length = 0\n",
        "        self.width = 0\n",
        "\n",
        "    def set_dimension(self, length, width):\n",
        "        self.length = length\n",
        "        self.width = width\n",
        "\n",
        "    def area(self):\n",
        "        return self.length * self.width\n",
        "\n",
        "# Example usage:\n",
        "rectangle = Rectangle()\n",
        "rectangle.set_dimension(7, 2)  # Set length to 7 and width to 2\n",
        "area = rectangle.area()\n",
        "print(f\"The area of the rectangle is: {area}\")"
      ],
      "metadata": {
        "colab": {
          "base_uri": "https://localhost:8080/"
        },
        "id": "6pbXzGvBqHm1",
        "outputId": "f2d14979-6c4d-4389-f68d-29f49ae1b9bc"
      },
      "execution_count": 40,
      "outputs": [
        {
          "output_type": "stream",
          "name": "stdout",
          "text": [
            "The area of the rectangle is: 14\n"
          ]
        }
      ]
    },
    {
      "cell_type": "markdown",
      "source": [
        "***Q14) Create a class Emplyee with a method calcuate_salary() that computes the salary based on hours worked and hourly rate. Create a derived class Manager that adds a bonus to the salary.***"
      ],
      "metadata": {
        "id": "1QUI2y1BqH_D"
      }
    },
    {
      "cell_type": "code",
      "source": [
        "class Employee:\n",
        "    def __init__(self, name, hours_worked, hourly_rate):\n",
        "        self.name = name\n",
        "        self.hours_worked = hours_worked\n",
        "        self.hourly_rate = hourly_rate\n",
        "\n",
        "    def calculate_salary(self):\n",
        "        return self.hours_worked * self.hourly_rate\n",
        "\n",
        "class Manager(Employee):\n",
        "    def __init__(self, name, hours_worked, hourly_rate, bonus):\n",
        "        super().__init__(name, hours_worked, hourly_rate)\n",
        "        self.bonus = bonus\n",
        "\n",
        "    def calculate_salary(self):\n",
        "        base_salary = super().calculate_salary()\n",
        "        return base_salary + self.bonus\n",
        "\n"
      ],
      "metadata": {
        "id": "BGruq-LRqeQS"
      },
      "execution_count": 41,
      "outputs": []
    },
    {
      "cell_type": "markdown",
      "source": [
        "***Q15) Create a class product with attributes name , price , and quantity. Implement a method total_price() that calculate the total price of the product.***"
      ],
      "metadata": {
        "id": "pPagt6Zwqev2"
      }
    },
    {
      "cell_type": "code",
      "source": [
        "class Product:\n",
        "    def __init__(self, name, price, quantity):\n",
        "        self.name = name\n",
        "        self.price = price\n",
        "        self.quantity = quantity\n",
        "\n",
        "    def total_price(self):\n",
        "        return self.price * self.quantity\n",
        "\n",
        "# Example usage\n",
        "product = Product(\"phone\", 50000, 2)\n",
        "total_cost = product.total_price()\n",
        "print(f\"Total cost of {product.name}: ${total_cost}\")"
      ],
      "metadata": {
        "colab": {
          "base_uri": "https://localhost:8080/"
        },
        "id": "qBYdI1xoqxMK",
        "outputId": "c2fa1a17-f5c5-4e0f-a080-af672e425972"
      },
      "execution_count": 42,
      "outputs": [
        {
          "output_type": "stream",
          "name": "stdout",
          "text": [
            "Total cost of phone: $100000\n"
          ]
        }
      ]
    },
    {
      "cell_type": "markdown",
      "source": [
        "***Q16) Create a class animal with an abstract method sound() . Create two derived class Cow and Sheep that implement the sound() method.***"
      ],
      "metadata": {
        "id": "-cfk-IueqxwL"
      }
    },
    {
      "cell_type": "code",
      "source": [
        "from abc import ABC, abstractmethod\n",
        "\n",
        "class Animal(ABC):\n",
        "    @abstractmethod\n",
        "    def sound(self):\n",
        "        pass\n",
        "\n",
        "class Cow(Animal):\n",
        "    def sound(self):\n",
        "        print(\"Moo!\")\n",
        "\n",
        "class Sheep(Animal):\n",
        "    def sound(self):\n",
        "        print(\"Baa!\")\n",
        "\n",
        "# Create instances and call the sound() method\n",
        "cow = Cow()\n",
        "sheep = Sheep()\n",
        "\n"
      ],
      "metadata": {
        "id": "QPeLw8EHrDtr"
      },
      "execution_count": 44,
      "outputs": []
    }
  ]
}